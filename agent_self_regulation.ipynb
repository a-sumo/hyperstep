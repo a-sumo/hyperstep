{
  "cells": [
    {
      "cell_type": "markdown",
      "metadata": {
        "id": "PFm0E38mh3Dj"
      },
      "source": [
        "# Agent Self-Regulation\n",
        "\n",
        "Listening to [Flume - Sintra ](https://www.youtube.com/watch?v=fpyDJWxCep8) got me thinking of computational approaches to recreate organic drum patterns characterized by [syncopation](https://en.wikipedia.org/wiki/Syncopation). \n",
        "\n",
        "My first approach was to conceive the composition as a self-regulating agent whose actions produce sounds. Each action has specific effects on user-defined properties. I thought that by assigning semantically motivated effects to each action and by giving the agent a property baseline to follow, I could recreate the desired patterns.\n",
        "\n",
        "Sections:\n",
        "\n",
        "-   Setups and imports\n",
        "-   Function fefinitions\n",
        "-   Compute audio features\n",
        "-   Initialize and run the simulation\n",
        "-   Export MIDI-Files"
      ]
    },
    {
      "cell_type": "markdown",
      "metadata": {
        "id": "RmZ0IWG-NPAi"
      },
      "source": [
        "## Setup and Imports\n"
      ]
    },
    {
      "cell_type": "code",
      "execution_count": null,
      "metadata": {
        "id": "KDrz-HzQzQta",
        "vscode": {
          "languageId": "python"
        }
      },
      "outputs": [],
      "source": [
        "#@title Setup\n",
        "print('Installing dependencies...')\n",
        "!apt-get update -qq && apt-get install -qq libfluidsynth1 fluid-soundfont-gm build-essential libasound2-dev libjack-dev\n",
        "!pip install -qU pyfluidsynth pretty_midi\n",
        "\n",
        "!pip install -qU magenta\n",
        "!pip install tqdm\n",
        "#prevent Error: from matplotlib import _png ImportError: cannot import name '_png' from 'matplotlib'\n",
        "!pip install matplotlib==3.1.1\n",
        "\n",
        "!pip install scipy==1.7.3\n",
        "# Hack to allow python to pick up the newly-installed fluidsynth lib. \n",
        "# This is only needed for the hosted Colab environment.\n",
        "import ctypes.util\n",
        "orig_ctypes_util_find_library = ctypes.util.find_library\n",
        "def proxy_find_library(lib):\n",
        "  if lib == 'fluidsynth':\n",
        "    return 'libfluidsynth.so.1'\n",
        "  else:\n",
        "    return orig_ctypes_util_find_library(lib)\n",
        "ctypes.util.find_library = proxy_find_library\n",
        "\n",
        "print('Importing libraries and defining some helper functions...')\n",
        "from google.colab import files\n",
        "\n",
        "import magenta\n",
        "import note_seq\n",
        "import tensorflow\n",
        "\n",
        "print('🎉 Done!')\n",
        "print(magenta.__version__)\n",
        "print(tensorflow.__version__)\n",
        "\n",
        "import numpy as np\n",
        "import matplotlib.pyplot as plt\n",
        "from scipy import signal\n",
        "from tqdm import tqdm"
      ]
    },
    {
      "cell_type": "code",
      "execution_count": null,
      "metadata": {
        "id": "05Upufkmv3xP",
        "vscode": {
          "languageId": "python"
        }
      },
      "outputs": [],
      "source": [
        "!git clone https://github.com/a-sumo/hyperstep"
      ]
    },
    {
      "cell_type": "markdown",
      "metadata": {
        "id": "2NsIlvEChufR"
      },
      "source": [
        "## Define core functions\n",
        "\n",
        "The function **_signal** defines a goal signal that will guide the agent's actions and thus guide the composition. \n",
        "\n",
        "The function **tempo_effect** will accumulate a quantity following each use of an action. It can be thought of as an un-normalized indicator of an action's frequency.\n",
        "I designed this function in an attempt to down-regulate the use repeated use of actions with small effects within a short timeframe and thus encourage variety in action selection.\n",
        "\n",
        "The function **run** implements the simulation.\n",
        "At each step, it takes into account the combined effects of the actions that were taken in the previous step, coupled with the goal value of the current step in order to decide which action to take next. \n",
        "The decision is based on threshold value. I've chosen against assigning probabilities to each action because that didn't seem to fit the framework. \n",
        "\n",
        "*Note*: One could state that the probability of breathing out increases as the concentration of carbon dioxide increases in our blood. But that would be inaccurate because we know that in a healthy body, the detection of changes in levels of CO2 and O2 in our blood triggers the expansion/contraction of our diaphram with causes us to breathe in a,dout. Unless we account for random failure in each of these steps, this looks to me like a fairly deterministic process. \n",
        "This example may seem anecdotal, but the temporal organization of drums may very well stem from something as simple as the temporal organization of self-regulating processes in our body such as breathing. After all, for something to resonate so deeply and universally with humans, it must stem from processes experienced by all humans. We may not need to look further than the inside of our bodies."
      ]
    },
    {
      "cell_type": "code",
      "execution_count": 7,
      "metadata": {
        "id": "F6P3BT2HnYQv",
        "vscode": {
          "languageId": "python"
        }
      },
      "outputs": [],
      "source": [
        "def _signal(duration=1, sr=20500, type='constant', amplitude=1, frequency=0.1, offset=0):\n",
        "    \"\"\"\n",
        "    Utility signals.\n",
        "    duration: duration of the signal in seconds,\n",
        "    sr: sampling rate,\n",
        "    type: signal type ('constant', 'ramp', 'sine', 'sawtooth', 'triangle', 'square')\n",
        "    amplitude: signal amplitude\n",
        "    frequency: signal frequency for 'sine', 'sawtooth', 'triangle', 'square'\n",
        "    offset: signal offset(in value)\n",
        "\n",
        "    \"\"\"\n",
        "    x = np.arange(duration*sr)/sr\n",
        "    if type=='constant':\n",
        "        y = offset * np.ones(duration*sr) \n",
        "    elif type == 'ramp':\n",
        "        y = amplitude * x\n",
        "    elif type=='sine':\n",
        "        y = offset + amplitude * np.sin(2 * np.pi * frequency * x)\n",
        "    elif type == 'sawtooth':\n",
        "        y = offset + amplitude * signal.sawtooth(2 * np.pi * frequency * x)\n",
        "    elif type == 'triangle':\n",
        "        y = offset + amplitude * np.abs(signal.sawtooth(2 * np.pi * frequency * x))   \n",
        "    elif type == 'square':\n",
        "        y = offset + amplitude * signal.square(2 * np.pi * frequency * x)  \n",
        "    return y \n",
        "    \n",
        "def tempo_effect(action_history, sr):\n",
        "    \"\"\"\n",
        "    For all timesteps in history, add the timestep length (inverse of sampling rate) each time an action is taken.\n",
        "\n",
        "    action_history: array of actions\n",
        "    sr: sampling rate\n",
        "\n",
        "    \"\"\"\n",
        "    # Start from a base value of 1. This is an arbitrary choice.\n",
        "    # By keeping it within the function, we reduce the number of parameters to set manually.\n",
        "    state = 1\n",
        "    for k in range (action_history.shape[0]):\n",
        "        if action_history[k] == 1:\n",
        "            state += 1/sr\n",
        "        else:\n",
        "            state -= 1/sr\n",
        "    return state\n",
        "\n",
        "def run(mode='tempo',\n",
        "        initial_state=0,\n",
        "        episode_duration=10,\n",
        "        action_rate=1,\n",
        "        goal_value=None,\n",
        "        goal_range=0.1,\n",
        "        tension_vals=None,\n",
        "        tension_multiplier=None,\n",
        "        tempo_action=0,\n",
        "        sr_global=20):\n",
        "    \"\"\"\n",
        "    Run the simulation.\n",
        "    \n",
        "    tension_multiplier: multiplying factor for the tension_integral\n",
        "    tempo_action: action over which to accumulate the tempo effect. This action will\n",
        "    \"\"\"\n",
        "    num_actions = len(tension_vals)\n",
        "    num_steps = episode_duration*sr_global\n",
        "    action_history = np.zeros((num_actions,num_steps))\n",
        "    state_history = np.zeros(num_steps)\n",
        "    #accumulate the values of tension effect over \n",
        "    tension_integral = np.array([np.trapz(tension_vals[i])  for i in range(num_actions)])\n",
        "    tension_integral = np.multiply(tension_integral,tension_multiplier)\n",
        "    #agent state\n",
        "    state = initial_state \n",
        "    #timesteps at which an action is triggered\n",
        "    trigger_timesteps = []\n",
        "    for i in range(num_actions):\n",
        "        trigger_timesteps.append([])\n",
        "    tension_increment = effect_increment_scale/sr_global\n",
        "    tension_vals =  [tension_increment * tension_vals[i] * tension_multiplier[i] for i in range(len(tension_vals))] \n",
        "    for k in tqdm(range(num_steps)): \n",
        "        if mode == 'tempo':\n",
        "            # accumulate a small value (whose dimension is that of time)\n",
        "            # for all occurrences of 'tempo_action' in history\n",
        "            state = tempo_effect(action_history[tempo_action], sr_global)\n",
        "            #\n",
        "            state_history[k] = state\n",
        "            if k % (1 / action_rate) == 0:\n",
        "\n",
        "                #if \"tempo\" is greater than the goal value, do not act (down-regulation)\n",
        "                if state > goal_value[k]:\n",
        "                    action = 0\n",
        "\n",
        "                #if \"tempo\" is lower than the goal value, act\n",
        "                elif state < goal_value[k]:\n",
        "                    \n",
        "                    action = tempo_action\n",
        "                action_history[action,k]=1\n",
        "\n",
        "                trigger_timesteps[action].append(k)\n",
        "                \n",
        "        elif mode == 'tension': \n",
        "            V = tension_integral\n",
        "            if k == 0 or k % (1/action_rate)==0:       \n",
        "                # if the state is greater than the goal value + the goal range       \n",
        "                if state > goal_value[k] + goal_range:\n",
        "                    # pick the action with lowest effect \n",
        "                    action = np.argmin(V)\n",
        "                    # add current timestep to action history\n",
        "                    action_history[action,k] = 1\n",
        "                    # add current timestep to action trigger history\n",
        "                    trigger_timesteps[action].append(k)\n",
        "                #else, if the state is lower than the goal value - the goal range\n",
        "                elif state < goal_value[k] - goal_range:\n",
        "                    #pick the action with highest effect \n",
        "                    action = np.argmax(V)\n",
        "                    # add current timestep to action history\n",
        "                    action_history[action,k] = 1\n",
        "                    # add current timestep to action trigger history\n",
        "                    trigger_timesteps[action].append(k) \n",
        "\n",
        "            # The following section is currently unnecessarily sophisticated considering\n",
        "            # how little semantically relevant information has been extracted from audio.\n",
        "            # There are definitely more efficient approaches in the utility system literature\n",
        "            # https://en.wikipedia.org/wiki/Utility_system\n",
        "\n",
        "            # add the effects (tension_vals) of all actions active at the current timestep\n",
        "            # do so by sampling their tension values array(tension_vals) at the timestep relative(offset) to \n",
        "            # start of the action (trigger_timestep)\n",
        "            for a in range(num_actions):\n",
        "                for i in range(len(trigger_timesteps[a])):\n",
        "                    # if the current action was triggered at least once\n",
        "                    if(len(trigger_timesteps[a])>0):\n",
        "                        # timestep at which the current action was triggered\n",
        "                        min = trigger_timesteps[a][i]\n",
        "                        # timestep at which the current action ended\n",
        "                        max = trigger_timesteps[a][i] + len(tension_vals[a])\n",
        "\n",
        "                        #sample the values of tensions for \n",
        "                        sampling_range = np.arange(min,max)\n",
        "                        #time offset of the current action \n",
        "                        offset = trigger_timesteps[a][i]\n",
        "                    #if the current action was never triggered\n",
        "                    else:\n",
        "                        sampling_range = range(0)\n",
        "                        offset = 0\n",
        "                        #the state history keeps the value from the previous iteration\n",
        "                        state = state_history[k-1] \n",
        "                        #save the current state in state history\n",
        "                        state_history[k] = state\n",
        "                    #if the current timestep is within the time range in which the action is active \n",
        "                    if k in sampling_range:\n",
        "                        #sample tension values and add to the current state\n",
        "                        k2 = librosa.frames_to_samples\n",
        "                        #sample and add the value of the tension_array at the timestep\n",
        "                        # k - offset \n",
        "                        state += tension_vals[a][k-offset]\n",
        "                        #save the current state in state history\n",
        "                        state_history[k] = state\n",
        "                    else:\n",
        "                        #empty the trigger \"history\" of the current action\n",
        "                        for m in range(k):\n",
        "                            if m in trigger_timesteps[a]:\n",
        "                                trigger_timesteps[a].remove(m)\n",
        "        #Reset state\n",
        "        # state = 0\n",
        "    return (action_history,state_history)\n",
        "\n",
        "def viz_episode(mode='tempo',\n",
        "                action_history=None,\n",
        "                state_history=None,\n",
        "                goal_value=None,\n",
        "                sr_global=20,\n",
        "                episode_duration=10,\n",
        "                goal_range=0.1,):\n",
        "\n",
        "    x=np.arange(episode_duration*sr_global)/sr_global\n",
        "    fig1, ax1 = plt.subplots(action_history.shape[0])\n",
        "    fig2,ax2 = plt.subplots(1)\n",
        "    ax2.plot(x,np.ones_like(x)*goal_value,label=\"goal_value\")\n",
        "    \n",
        "    for i in range(action_history.shape[0]):\n",
        "        ax1[i].scatter(x,action_history[i],label='action history: '+ str(i))\n",
        "        ax1[i].set_title(\"Action Activations \")\n",
        "        ax1[i].legend(loc='lower left')\n",
        "    if mode == 'tension':\n",
        "        ax2.plot(x,goal_value+goal_range,label=\"goal_max\")\n",
        "        ax2.plot(x,goal_value-goal_range,label=\"goal_min\")\n",
        "    ax2.plot(x,state_history,label=\"state history\")\n",
        "    ax2.set_title(\"State History\")\n",
        "    ax2.legend(loc='lower left')\n",
        "    fig2.set_figheight(7)\n",
        "    fig2.set_figwidth(7)\n",
        "    return \n"
      ]
    },
    {
      "cell_type": "markdown",
      "metadata": {
        "id": "ATnyreFSCF2p"
      },
      "source": [
        "## Compute audio features\n",
        "\n",
        "This section is fairly tentative but I wanted to keep it in the notebook to show how subtly difficult it is to:\n",
        "\n",
        "-   extract semantically meaningful features from raw audio samples\n",
        "-   determine the effect of each action/sound based on those features\n",
        "\n",
        "This was not successful, mainly because the agent's decision-making algorithm is too coarse compared to the resolution at which the differences between audio samples and their effects become significant. \n",
        "\n",
        "\n",
        "Intuitively, kicks should convey a notion of impulse, positive energy being injected into a system. Snares on the other hand should be 'dual' to kicks and convey a release of energy.\n",
        "\n",
        "It would be interesting, though very challenging, to recover these semantic associations from data alone."
      ]
    },
    {
      "cell_type": "code",
      "execution_count": 4,
      "metadata": {
        "colab": {
          "base_uri": "https://localhost:8080/"
        },
        "id": "TjTHyuu60M9G",
        "outputId": "a4ecb9e6-d4ca-4640-b584-fc0944590cc2",
        "vscode": {
          "languageId": "python"
        }
      },
      "outputs": [
        {
          "output_type": "stream",
          "name": "stdout",
          "text": [
            "hyperstep  sample_data\n"
          ]
        }
      ],
      "source": [
        "!ls"
      ]
    },
    {
      "cell_type": "code",
      "execution_count": 5,
      "metadata": {
        "colab": {
          "base_uri": "https://localhost:8080/",
          "height": 1000
        },
        "id": "Mn6B9VY7Hr5N",
        "outputId": "2365e66a-50e5-4da7-93f5-538be498b25c",
        "vscode": {
          "languageId": "python"
        }
      },
      "outputs": [
        {
          "output_type": "stream",
          "name": "stdout",
          "text": [
            "tension_integral muffled_kick: 2118.4829126564923\n",
            "tension_integral snare_FPC: 942.3963585149115\n"
          ]
        },
        {
          "output_type": "display_data",
          "data": {
            "text/plain": [
              "<Figure size 720x720 with 4 Axes>"
            ],
            "image/png": "[encoded data removed]"
          },
          "metadata": {
            "needs_background": "light"
          }
        },
        {
          "output_type": "display_data",
          "data": {
            "text/plain": [
              "<Figure size 720x720 with 2 Axes>"
            ],
            "image/png": "[encoded data removed]"
          },
          "metadata": {
            "needs_background": "light"
          }
        },
        {
          "output_type": "display_data",
          "data": {
            "text/plain": [
              "<Figure size 432x288 with 1 Axes>"
            ],
            "image/png": "[encoded data removed]"
          },
          "metadata": {
            "needs_background": "light"
          }
        }
      ],
      "source": [
        "import librosa, librosa.display\n",
        "import IPython.display as ipd\n",
        "from IPython.display import Audio\n",
        "from scipy.signal import hilbert,resample\n",
        "from scipy import interpolate\n",
        "y_kick_802_2,sr = librosa.load('/content/hyperstep/audio/drum_samples/kick_802_2.wav')\n",
        "snare_FPC,_ = librosa.load('/content/hyperstep/audio/drum_samples/snare_FPC.wav')\n",
        "y_tom_16_inch_4,_ = librosa.load('/content/hyperstep/audio/drum_samples/tom_16_inch_tom_4.wav')\n",
        "y_tom_909,_ = librosa.load('/content/hyperstep/audio/drum_samples/tom_909.wav')\n",
        "muffled_kick,sr = librosa.load('/content/hyperstep/audio/drum_samples/muffled_kick.wav')\n",
        "brake_sound,sr = librosa.load('/content/hyperstep/audio/drum_samples/422442__vacuumfan7072__jbrake-sim-96k.wav')\n",
        "y_tom_909_envelope = hilbert(y_tom_909)\n",
        "\n",
        "\n",
        "# y_kick_808, sr = librosa.load(kick_808_2)\n",
        "# y_snare_lin, sr = librosa.load(snare_linn)\n",
        "# y_tom_909, sr = librosa.load(tom_909)\n",
        "# drum_samples = [muffled_kick,brake_sound,y_tom_16_inch_4,y_tom_909]\n",
        "# drum_names = ['muffled_kick','brake_snare','y_tom_16_inch_4','tom_909']\n",
        "drum_samples = [muffled_kick,snare_FPC]\n",
        "drum_names = ['muffled_kick','snare_FPC']\n",
        "rms = [None] * len(drum_samples)\n",
        "effect_duration = [None] * len(drum_samples)\n",
        "show_figs = True\n",
        "if show_figs:\n",
        "    fig, ax = plt.subplots(nrows=len(drum_samples)*2,sharex=True)\n",
        "    fig.set_figheight(10)\n",
        "    fig.set_figwidth(10)\n",
        "    fig2, ax2 = plt.subplots(nrows=len(drum_samples),sharex=True)\n",
        "    fig2.set_figheight(10)\n",
        "    fig2.set_figwidth(10)\n",
        "    fig3,ax3 = plt.subplots(nrows=1,sharex=True)\n",
        "for i in range(len(drum_samples)):\n",
        "    #set all max audio intensities to 1\n",
        "    if np.max(np.abs(drum_samples[i]))>0:\n",
        "        drum_samples[i] *= 1/np.max(drum_samples[i])\n",
        "    S = librosa.feature.melspectrogram(y=drum_samples[i], sr=sr, n_mels=128,\n",
        "                                    fmax=8000)\n",
        "    rms[i] = librosa.feature.rms(y=drum_samples[i]).squeeze()\n",
        "    times_audio = librosa.samples_to_time(np.arange(drum_samples[i].shape[0]),sr=sr)\n",
        "    new_length = times_audio.size\n",
        "    y_rms = rms[i]\n",
        "    x_rms = np.arange(y_rms.size)\n",
        "    new_x_rms = np.linspace(x_rms.min(),x_rms.max(), new_length)\n",
        "    rms[i] = interpolate.interp1d(x_rms, y_rms, kind='linear')(new_x_rms)\n",
        "    effect_duration[i] = librosa.samples_to_time(np.arange(rms[i].shape[0]),sr=sr)[-1]\n",
        "    S_dB = librosa.power_to_db(S, ref=np.max)\n",
        "    #plot\n",
        "    if show_figs:\n",
        "        librosa.display.waveplot(drum_samples[i], sr=sr, ax=ax[i])\n",
        "        ax[i+2].plot(times_audio, rms[i], label='RMS Energy')\n",
        "        ax[i].set(title=drum_names[i])\n",
        "        ax[i].label_outer()\n",
        "        ax[i+2].set(title=drum_names[i])\n",
        "        ax[i+2].label_outer()\n",
        "        img = librosa.display.specshow(S_dB, x_axis='time',\n",
        "\n",
        "                            y_axis='mel', sr=sr,\n",
        "\n",
        "                            fmax=8000, ax=ax2[i])\n",
        "        ax2[i].set(title=drum_names[i])\n",
        "        ax2[i].label_outer()\n",
        "#Compute Audio Features \n",
        "rms_effect = []\n",
        "rms_integral = []\n",
        "lower_threshold = 0.001\n",
        "num_action_effects = len(rms)\n",
        "for i in range(num_action_effects):\n",
        "    rms_ = rms[i].copy()\n",
        "    rms_[np.where(rms_<lower_threshold)] = 0\n",
        "    rms_ = np.trim_zeros(rms_)\n",
        "    rms_effect.append(rms_)\n",
        "    rms_integral.append(np.trapz(rms_))\n",
        "    print('tension_integral '+drum_names[i]+':',np.trapz(rms_))\n",
        "    ax3.plot(np.arange(rms_effect[i].size),rms_effect[i])"
      ]
    },
    {
      "cell_type": "markdown",
      "metadata": {
        "id": "Rz4uvH7sxUOS"
      },
      "source": [
        "## Initialize and run the simulation\n",
        "\n",
        "In the  following cells, we initialize and run the simulation.\n",
        "\n",
        "Unfortunately, the initialization is still extremely  unintuitive. The parameters, although physically motivated are opaque in their current form.\n",
        "The interface can be made more interactive by allowing the user to manually set a goal function instead of using pre-defined signals. This can be implemented by embeddnig Javascript code inside the notebook.\n",
        "The parameter choice can be made more even intuitive by implementing real-time interaction between the agent and the user, but that may be outside of the scope of Jupyter Notebooks."
      ]
    },
    {
      "cell_type": "code",
      "execution_count": 44,
      "metadata": {
        "colab": {
          "base_uri": "https://localhost:8080/"
        },
        "id": "2-t4v_4_PkA7",
        "outputId": "82ad606f-9cda-4e36-854c-89eeb3cb4e5c",
        "vscode": {
          "languageId": "python"
        }
      },
      "outputs": [
        {
          "output_type": "stream",
          "name": "stderr",
          "text": [
            "100%|██████████| 220500/220500 [00:06<00:00, 36245.26it/s]\n"
          ]
        }
      ],
      "source": [
        "#Simulation mode. I thought of combining both tempo and tension effects but was unsuccessful.\n",
        "mode = 'tension'\n",
        "#global sampling rate(s-1) \n",
        "sr_global = sr  \n",
        "#effect curve sampling rate(s-1) \n",
        "# the action_rate parameter determines how often the agent acts, it indirectly sets the rhythm of your drum pattern\n",
        "action_rate = 0.0002 \n",
        "#episode duration(s)\n",
        "episode_duration = 10\n",
        "#estimation window (s) (currently unused)\n",
        "estimation_window = 1 \n",
        "# global multiyplying factor for the magnitude of the effects of each action\n",
        "effect_increment_scale = 10  \n",
        "\n",
        "# The Goal Value is the most important setting \n",
        "#goal_value = _signal(duration=episode_duration,sr=sr_global,type='triangle',amplitude=2,offset=2,frequency=0.2) * _signal(duration=episode_duration,sr=sr_global,type='square',amplitude=1,offset=2,frequency=0.2)\n",
        "goal_value = _signal(duration=episode_duration,sr=sr_global,type='constant',amplitude=0,offset=2) * _signal(duration=episode_duration,sr=sr_global,type='square',amplitude=1,offset=2,frequency=0.5)\n",
        "\n",
        "\n",
        "goal_range = 1\n",
        "tension_multiplier = np.ones(len(rms_effect))\n",
        "#In this example, we associate:\n",
        "# kicks and toms with contraction \n",
        "# snares and claps with relaxation.\n",
        "for i in range(len(drum_names)):\n",
        "    # here, snares and claps have stronger and opposite effect to kicks and toms\n",
        "    drum_name = drum_names[i]\n",
        "    if drum_name[i].find('kick') !=-1 or drum_name.find('tom') !=-1:\n",
        "        tension_multiplier[i] = 1\n",
        "    elif drum_name.find('snare') != -1 or drum_name.find('clap') != -1:\n",
        "        tension_multiplier[i] = -1\n",
        "\n",
        "tension_multiplier *= effect_increment_scale\n",
        "\n",
        "action_history, state_history = run(\n",
        "        mode=mode,\n",
        "        initial_state=1,\n",
        "        episode_duration=episode_duration,\n",
        "        action_rate=action_rate,\n",
        "        goal_value=goal_value,\n",
        "        goal_range=goal_range,\n",
        "        tension_vals=rms_effect,\n",
        "        tension_multiplier=tension_multiplier,\n",
        "        tempo_action=0,\n",
        "        sr_global=sr_global)\n"
      ]
    },
    {
      "cell_type": "markdown",
      "metadata": {
        "id": "o91F3w_lQx9q"
      },
      "source": [
        "## Visualize the Episode"
      ]
    },
    {
      "cell_type": "code",
      "execution_count": 45,
      "metadata": {
        "colab": {
          "base_uri": "https://localhost:8080/",
          "height": 708
        },
        "id": "5Lpl7LbW7l1g",
        "outputId": "0f63153b-426a-41cd-c7e1-1d035a450ec9",
        "vscode": {
          "languageId": "python"
        }
      },
      "outputs": [
        {
          "output_type": "display_data",
          "data": {
            "text/plain": [
              "<Figure size 432x288 with 2 Axes>"
            ],
            "image/png": "[encoded data removed]"
          },
          "metadata": {
            "needs_background": "light"
          }
        },
        {
          "output_type": "display_data",
          "data": {
            "text/plain": [
              "<Figure size 504x504 with 1 Axes>"
            ],
            "image/png": "[encoded data removed]"
          },
          "metadata": {
            "needs_background": "light"
          }
        }
      ],
      "source": [
        "viz_episode(\n",
        "    mode=mode,\n",
        "    action_history=action_history,\n",
        "    state_history=state_history,\n",
        "    goal_value=goal_value,\n",
        "    sr_global=sr_global,\n",
        "    episode_duration=episode_duration,\n",
        "    goal_range=goal_range\n",
        "    )"
      ]
    },
    {
      "cell_type": "markdown",
      "metadata": {
        "id": "5iphr4KBjJIS"
      },
      "source": [
        "## Export MIDI files\n",
        "\n",
        "Because PyFluidSynth requires a Soundfont, and the initial samples are audio-files we can't use these samples for the synthesis of the final sounds.\n",
        "Nonetheless, the available soundfonts are sufficient to getan idea of the overall melody."
      ]
    },
    {
      "cell_type": "markdown",
      "metadata": {
        "id": "0PT3FYqHuPJ0"
      },
      "source": [
        "For a tutorial see [hello mangenta](https://colab.research.google.com/drive/1_6Is2gcnpAWuWQ6g-vf9LRSlnOLB2V8j#scrollTo=PfRDVhNs3UFx) notebook"
      ]
    },
    {
      "cell_type": "code",
      "execution_count": 47,
      "metadata": {
        "colab": {
          "base_uri": "https://localhost:8080/",
          "height": 261
        },
        "id": "jksnk8eU298a",
        "outputId": "fd0c9f1f-d98e-4477-97bc-93e3907e61bc",
        "vscode": {
          "languageId": "python"
        }
      },
      "outputs": [
        {
          "output_type": "display_data",
          "data": {
            "text/plain": [
              "<IPython.core.display.Javascript object>"
            ],
            "application/javascript": [
              "\n",
              "    async function download(id, filename, size) {\n",
              "      if (!google.colab.kernel.accessAllowed) {\n",
              "        return;\n",
              "      }\n",
              "      const div = document.createElement('div');\n",
              "      const label = document.createElement('label');\n",
              "      label.textContent = `Downloading \"${filename}\": `;\n",
              "      div.appendChild(label);\n",
              "      const progress = document.createElement('progress');\n",
              "      progress.max = size;\n",
              "      div.appendChild(progress);\n",
              "      document.body.appendChild(div);\n",
              "\n",
              "      const buffers = [];\n",
              "      let downloaded = 0;\n",
              "\n",
              "      const channel = await google.colab.kernel.comms.open(id);\n",
              "      // Send a message to notify the kernel that we're ready.\n",
              "      channel.send({})\n",
              "\n",
              "      for await (const message of channel.messages) {\n",
              "        // Send a message to notify the kernel that we're ready.\n",
              "        channel.send({})\n",
              "        if (message.buffers) {\n",
              "          for (const buffer of message.buffers) {\n",
              "            buffers.push(buffer);\n",
              "            downloaded += buffer.byteLength;\n",
              "            progress.value = downloaded;\n",
              "          }\n",
              "        }\n",
              "      }\n",
              "      const blob = new Blob(buffers, {type: 'application/binary'});\n",
              "      const a = document.createElement('a');\n",
              "      a.href = window.URL.createObjectURL(blob);\n",
              "      a.download = filename;\n",
              "      div.appendChild(a);\n",
              "      a.click();\n",
              "      div.remove();\n",
              "    }\n",
              "  "
            ]
          },
          "metadata": {}
        },
        {
          "output_type": "display_data",
          "data": {
            "text/plain": [
              "<IPython.core.display.Javascript object>"
            ],
            "application/javascript": [
              "download(\"download_49279b2c-53c1-44c3-a52d-61fc7fe6a72a\", \"drums_sequence_output.mid\", 322)"
            ]
          },
          "metadata": {}
        },
        {
          "output_type": "display_data",
          "data": {
            "application/javascript": [
              "\n",
              "(function(root) {\n",
              "  function now() {\n",
              "    return new Date();\n",
              "  }\n",
              "\n",
              "  var force = true;\n",
              "\n",
              "  if (typeof root._bokeh_onload_callbacks === \"undefined\" || force === true) {\n",
              "    root._bokeh_onload_callbacks = [];\n",
              "    root._bokeh_is_loading = undefined;\n",
              "  }\n",
              "\n",
              "  var JS_MIME_TYPE = 'application/javascript';\n",
              "  var HTML_MIME_TYPE = 'text/html';\n",
              "  var EXEC_MIME_TYPE = 'application/vnd.bokehjs_exec.v0+json';\n",
              "  var CLASS_NAME = 'output_bokeh rendered_html';\n",
              "\n",
              "  /**\n",
              "   * Render data to the DOM node\n",
              "   */\n",
              "  function render(props, node) {\n",
              "    var script = document.createElement(\"script\");\n",
              "    node.appendChild(script);\n",
              "  }\n",
              "\n",
              "  /**\n",
              "   * Handle when an output is cleared or removed\n",
              "   */\n",
              "  function handleClearOutput(event, handle) {\n",
              "    var cell = handle.cell;\n",
              "\n",
              "    var id = cell.output_area._bokeh_element_id;\n",
              "    var server_id = cell.output_area._bokeh_server_id;\n",
              "    // Clean up Bokeh references\n",
              "    if (id != null && id in Bokeh.index) {\n",
              "      Bokeh.index[id].model.document.clear();\n",
              "      delete Bokeh.index[id];\n",
              "    }\n",
              "\n",
              "    if (server_id !== undefined) {\n",
              "      // Clean up Bokeh references\n",
              "      var cmd = \"from bokeh.io.state import curstate; print(curstate().uuid_to_server['\" + server_id + \"'].get_sessions()[0].document.roots[0]._id)\";\n",
              "      cell.notebook.kernel.execute(cmd, {\n",
              "        iopub: {\n",
              "          output: function(msg) {\n",
              "            var id = msg.content.text.trim();\n",
              "            if (id in Bokeh.index) {\n",
              "              Bokeh.index[id].model.document.clear();\n",
              "              delete Bokeh.index[id];\n",
              "            }\n",
              "          }\n",
              "        }\n",
              "      });\n",
              "      // Destroy server and session\n",
              "      var cmd = \"import bokeh.io.notebook as ion; ion.destroy_server('\" + server_id + \"')\";\n",
              "      cell.notebook.kernel.execute(cmd);\n",
              "    }\n",
              "  }\n",
              "\n",
              "  /**\n",
              "   * Handle when a new output is added\n",
              "   */\n",
              "  function handleAddOutput(event, handle) {\n",
              "    var output_area = handle.output_area;\n",
              "    var output = handle.output;\n",
              "\n",
              "    // limit handleAddOutput to display_data with EXEC_MIME_TYPE content only\n",
              "    if ((output.output_type != \"display_data\") || (!Object.prototype.hasOwnProperty.call(output.data, EXEC_MIME_TYPE))) {\n",
              "      return\n",
              "    }\n",
              "\n",
              "    var toinsert = output_area.element.find(\".\" + CLASS_NAME.split(' ')[0]);\n",
              "\n",
              "    if (output.metadata[EXEC_MIME_TYPE][\"id\"] !== undefined) {\n",
              "      toinsert[toinsert.length - 1].firstChild.textContent = output.data[JS_MIME_TYPE];\n",
              "      // store reference to embed id on output_area\n",
              "      output_area._bokeh_element_id = output.metadata[EXEC_MIME_TYPE][\"id\"];\n",
              "    }\n",
              "    if (output.metadata[EXEC_MIME_TYPE][\"server_id\"] !== undefined) {\n",
              "      var bk_div = document.createElement(\"div\");\n",
              "      bk_div.innerHTML = output.data[HTML_MIME_TYPE];\n",
              "      var script_attrs = bk_div.children[0].attributes;\n",
              "      for (var i = 0; i < script_attrs.length; i++) {\n",
              "        toinsert[toinsert.length - 1].firstChild.setAttribute(script_attrs[i].name, script_attrs[i].value);\n",
              "        toinsert[toinsert.length - 1].firstChild.textContent = bk_div.children[0].textContent\n",
              "      }\n",
              "      // store reference to server id on output_area\n",
              "      output_area._bokeh_server_id = output.metadata[EXEC_MIME_TYPE][\"server_id\"];\n",
              "    }\n",
              "  }\n",
              "\n",
              "  function register_renderer(events, OutputArea) {\n",
              "\n",
              "    function append_mime(data, metadata, element) {\n",
              "      // create a DOM node to render to\n",
              "      var toinsert = this.create_output_subarea(\n",
              "        metadata,\n",
              "        CLASS_NAME,\n",
              "        EXEC_MIME_TYPE\n",
              "      );\n",
              "      this.keyboard_manager.register_events(toinsert);\n",
              "      // Render to node\n",
              "      var props = {data: data, metadata: metadata[EXEC_MIME_TYPE]};\n",
              "      render(props, toinsert[toinsert.length - 1]);\n",
              "      element.append(toinsert);\n",
              "      return toinsert\n",
              "    }\n",
              "\n",
              "    /* Handle when an output is cleared or removed */\n",
              "    events.on('clear_output.CodeCell', handleClearOutput);\n",
              "    events.on('delete.Cell', handleClearOutput);\n",
              "\n",
              "    /* Handle when a new output is added */\n",
              "    events.on('output_added.OutputArea', handleAddOutput);\n",
              "\n",
              "    /**\n",
              "     * Register the mime type and append_mime function with output_area\n",
              "     */\n",
              "    OutputArea.prototype.register_mime_type(EXEC_MIME_TYPE, append_mime, {\n",
              "      /* Is output safe? */\n",
              "      safe: true,\n",
              "      /* Index of renderer in `output_area.display_order` */\n",
              "      index: 0\n",
              "    });\n",
              "  }\n",
              "\n",
              "  // register the mime type if in Jupyter Notebook environment and previously unregistered\n",
              "  if (root.Jupyter !== undefined) {\n",
              "    var events = require('base/js/events');\n",
              "    var OutputArea = require('notebook/js/outputarea').OutputArea;\n",
              "\n",
              "    if (OutputArea.prototype.mime_types().indexOf(EXEC_MIME_TYPE) == -1) {\n",
              "      register_renderer(events, OutputArea);\n",
              "    }\n",
              "  }\n",
              "\n",
              "  \n",
              "  if (typeof (root._bokeh_timeout) === \"undefined\" || force === true) {\n",
              "    root._bokeh_timeout = Date.now() + 5000;\n",
              "    root._bokeh_failed_load = false;\n",
              "  }\n",
              "\n",
              "  var NB_LOAD_WARNING = {'data': {'text/html':\n",
              "     \"<div style='background-color: #fdd'>\\n\"+\n",
              "     \"<p>\\n\"+\n",
              "     \"BokehJS does not appear to have successfully loaded. If loading BokehJS from CDN, this \\n\"+\n",
              "     \"may be due to a slow or bad network connection. Possible fixes:\\n\"+\n",
              "     \"</p>\\n\"+\n",
              "     \"<ul>\\n\"+\n",
              "     \"<li>re-rerun `output_notebook()` to attempt to load from CDN again, or</li>\\n\"+\n",
              "     \"<li>use INLINE resources instead, as so:</li>\\n\"+\n",
              "     \"</ul>\\n\"+\n",
              "     \"<code>\\n\"+\n",
              "     \"from bokeh.resources import INLINE\\n\"+\n",
              "     \"output_notebook(resources=INLINE)\\n\"+\n",
              "     \"</code>\\n\"+\n",
              "     \"</div>\"}};\n",
              "\n",
              "  function display_loaded() {\n",
              "    var el = document.getElementById(null);\n",
              "    if (el != null) {\n",
              "      el.textContent = \"BokehJS is loading...\";\n",
              "    }\n",
              "    if (root.Bokeh !== undefined) {\n",
              "      if (el != null) {\n",
              "        el.textContent = \"BokehJS \" + root.Bokeh.version + \" successfully loaded.\";\n",
              "      }\n",
              "    } else if (Date.now() < root._bokeh_timeout) {\n",
              "      setTimeout(display_loaded, 100)\n",
              "    }\n",
              "  }\n",
              "\n",
              "\n",
              "  function run_callbacks() {\n",
              "    try {\n",
              "      root._bokeh_onload_callbacks.forEach(function(callback) {\n",
              "        if (callback != null)\n",
              "          callback();\n",
              "      });\n",
              "    } finally {\n",
              "      delete root._bokeh_onload_callbacks\n",
              "    }\n",
              "    console.debug(\"Bokeh: all callbacks have finished\");\n",
              "  }\n",
              "\n",
              "  function load_libs(css_urls, js_urls, callback) {\n",
              "    if (css_urls == null) css_urls = [];\n",
              "    if (js_urls == null) js_urls = [];\n",
              "\n",
              "    root._bokeh_onload_callbacks.push(callback);\n",
              "    if (root._bokeh_is_loading > 0) {\n",
              "      console.debug(\"Bokeh: BokehJS is being loaded, scheduling callback at\", now());\n",
              "      return null;\n",
              "    }\n",
              "    if (js_urls == null || js_urls.length === 0) {\n",
              "      run_callbacks();\n",
              "      return null;\n",
              "    }\n",
              "    console.debug(\"Bokeh: BokehJS not loaded, scheduling load and callback at\", now());\n",
              "    root._bokeh_is_loading = css_urls.length + js_urls.length;\n",
              "\n",
              "    function on_load() {\n",
              "      root._bokeh_is_loading--;\n",
              "      if (root._bokeh_is_loading === 0) {\n",
              "        console.debug(\"Bokeh: all BokehJS libraries/stylesheets loaded\");\n",
              "        run_callbacks()\n",
              "      }\n",
              "    }\n",
              "\n",
              "    function on_error(url) {\n",
              "      console.error(\"failed to load \" + url);\n",
              "    }\n",
              "\n",
              "    for (let i = 0; i < css_urls.length; i++) {\n",
              "      const url = css_urls[i];\n",
              "      const element = document.createElement(\"link\");\n",
              "      element.onload = on_load;\n",
              "      element.onerror = on_error.bind(null, url);\n",
              "      element.rel = \"stylesheet\";\n",
              "      element.type = \"text/css\";\n",
              "      element.href = url;\n",
              "      console.debug(\"Bokeh: injecting link tag for BokehJS stylesheet: \", url);\n",
              "      document.body.appendChild(element);\n",
              "    }\n",
              "\n",
              "    const hashes = {\"https://cdn.bokeh.org/bokeh/release/bokeh-2.3.3.min.js\": \"dM3QQsP+wXdHg42wTqW85BjZQdLNNIXqlPw/BgKoExPmTG7ZLML4EGqLMfqHT6ON\", \"https://cdn.bokeh.org/bokeh/release/bokeh-tables-2.3.3.min.js\": \"8x57I4YuIfu8XyZfFo0XVr2WAT8EK4rh/uDe3wF7YuW2FNUSNEpJbsPaB1nJ2fz2\", \"https://cdn.bokeh.org/bokeh/release/bokeh-widgets-2.3.3.min.js\": \"3QTqdz9LyAm2i0sG5XTePsHec3UHWwVsrOL68SYRoAXsafvfAyqtQ+h440+qIBhS\"};\n",
              "\n",
              "    for (let i = 0; i < js_urls.length; i++) {\n",
              "      const url = js_urls[i];\n",
              "      const element = document.createElement('script');\n",
              "      element.onload = on_load;\n",
              "      element.onerror = on_error.bind(null, url);\n",
              "      element.async = false;\n",
              "      element.src = url;\n",
              "      if (url in hashes) {\n",
              "        element.crossOrigin = \"anonymous\";\n",
              "        element.integrity = \"sha384-\" + hashes[url];\n",
              "      }\n",
              "      console.debug(\"Bokeh: injecting script tag for BokehJS library: \", url);\n",
              "      document.head.appendChild(element);\n",
              "    }\n",
              "  };\n",
              "\n",
              "  function inject_raw_css(css) {\n",
              "    const element = document.createElement(\"style\");\n",
              "    element.appendChild(document.createTextNode(css));\n",
              "    document.body.appendChild(element);\n",
              "  }\n",
              "\n",
              "  \n",
              "  var js_urls = [\"https://cdn.bokeh.org/bokeh/release/bokeh-2.3.3.min.js\", \"https://cdn.bokeh.org/bokeh/release/bokeh-widgets-2.3.3.min.js\", \"https://cdn.bokeh.org/bokeh/release/bokeh-tables-2.3.3.min.js\"];\n",
              "  var css_urls = [];\n",
              "  \n",
              "\n",
              "  var inline_js = [\n",
              "    function(Bokeh) {\n",
              "      Bokeh.set_log_level(\"info\");\n",
              "    },\n",
              "    function(Bokeh) {\n",
              "    \n",
              "    \n",
              "    }\n",
              "  ];\n",
              "\n",
              "  function run_inline_js() {\n",
              "    \n",
              "    if (root.Bokeh !== undefined || force === true) {\n",
              "      \n",
              "    for (var i = 0; i < inline_js.length; i++) {\n",
              "      inline_js[i].call(root, root.Bokeh);\n",
              "    }\n",
              "    } else if (Date.now() < root._bokeh_timeout) {\n",
              "      setTimeout(run_inline_js, 100);\n",
              "    } else if (!root._bokeh_failed_load) {\n",
              "      console.log(\"Bokeh: BokehJS failed to load within specified timeout.\");\n",
              "      root._bokeh_failed_load = true;\n",
              "    } else if (force !== true) {\n",
              "      var cell = $(document.getElementById(null)).parents('.cell').data().cell;\n",
              "      cell.output_area.append_execute_result(NB_LOAD_WARNING)\n",
              "    }\n",
              "\n",
              "  }\n",
              "\n",
              "  if (root._bokeh_is_loading === 0) {\n",
              "    console.debug(\"Bokeh: BokehJS loaded, going straight to plotting\");\n",
              "    run_inline_js();\n",
              "  } else {\n",
              "    load_libs(css_urls, js_urls, function() {\n",
              "      console.debug(\"Bokeh: BokehJS plotting callback run at\", now());\n",
              "      run_inline_js();\n",
              "    });\n",
              "  }\n",
              "}(window));"
            ],
            "application/vnd.bokehjs_load.v0+json": "\n(function(root) {\n  function now() {\n    return new Date();\n  }\n\n  var force = true;\n\n  if (typeof root._bokeh_onload_callbacks === \"undefined\" || force === true) {\n    root._bokeh_onload_callbacks = [];\n    root._bokeh_is_loading = undefined;\n  }\n\n  \n\n  \n  if (typeof (root._bokeh_timeout) === \"undefined\" || force === true) {\n    root._bokeh_timeout = Date.now() + 5000;\n    root._bokeh_failed_load = false;\n  }\n\n  var NB_LOAD_WARNING = {'data': {'text/html':\n     \"<div style='background-color: #fdd'>\\n\"+\n     \"<p>\\n\"+\n     \"BokehJS does not appear to have successfully loaded. If loading BokehJS from CDN, this \\n\"+\n     \"may be due to a slow or bad network connection. Possible fixes:\\n\"+\n     \"</p>\\n\"+\n     \"<ul>\\n\"+\n     \"<li>re-rerun `output_notebook()` to attempt to load from CDN again, or</li>\\n\"+\n     \"<li>use INLINE resources instead, as so:</li>\\n\"+\n     \"</ul>\\n\"+\n     \"<code>\\n\"+\n     \"from bokeh.resources import INLINE\\n\"+\n     \"output_notebook(resources=INLINE)\\n\"+\n     \"</code>\\n\"+\n     \"</div>\"}};\n\n  function display_loaded() {\n    var el = document.getElementById(null);\n    if (el != null) {\n      el.textContent = \"BokehJS is loading...\";\n    }\n    if (root.Bokeh !== undefined) {\n      if (el != null) {\n        el.textContent = \"BokehJS \" + root.Bokeh.version + \" successfully loaded.\";\n      }\n    } else if (Date.now() < root._bokeh_timeout) {\n      setTimeout(display_loaded, 100)\n    }\n  }\n\n\n  function run_callbacks() {\n    try {\n      root._bokeh_onload_callbacks.forEach(function(callback) {\n        if (callback != null)\n          callback();\n      });\n    } finally {\n      delete root._bokeh_onload_callbacks\n    }\n    console.debug(\"Bokeh: all callbacks have finished\");\n  }\n\n  function load_libs(css_urls, js_urls, callback) {\n    if (css_urls == null) css_urls = [];\n    if (js_urls == null) js_urls = [];\n\n    root._bokeh_onload_callbacks.push(callback);\n    if (root._bokeh_is_loading > 0) {\n      console.debug(\"Bokeh: BokehJS is being loaded, scheduling callback at\", now());\n      return null;\n    }\n    if (js_urls == null || js_urls.length === 0) {\n      run_callbacks();\n      return null;\n    }\n    console.debug(\"Bokeh: BokehJS not loaded, scheduling load and callback at\", now());\n    root._bokeh_is_loading = css_urls.length + js_urls.length;\n\n    function on_load() {\n      root._bokeh_is_loading--;\n      if (root._bokeh_is_loading === 0) {\n        console.debug(\"Bokeh: all BokehJS libraries/stylesheets loaded\");\n        run_callbacks()\n      }\n    }\n\n    function on_error(url) {\n      console.error(\"failed to load \" + url);\n    }\n\n    for (let i = 0; i < css_urls.length; i++) {\n      const url = css_urls[i];\n      const element = document.createElement(\"link\");\n      element.onload = on_load;\n      element.onerror = on_error.bind(null, url);\n      element.rel = \"stylesheet\";\n      element.type = \"text/css\";\n      element.href = url;\n      console.debug(\"Bokeh: injecting link tag for BokehJS stylesheet: \", url);\n      document.body.appendChild(element);\n    }\n\n    const hashes = {\"https://cdn.bokeh.org/bokeh/release/bokeh-2.3.3.min.js\": \"dM3QQsP+wXdHg42wTqW85BjZQdLNNIXqlPw/BgKoExPmTG7ZLML4EGqLMfqHT6ON\", \"https://cdn.bokeh.org/bokeh/release/bokeh-tables-2.3.3.min.js\": \"8x57I4YuIfu8XyZfFo0XVr2WAT8EK4rh/uDe3wF7YuW2FNUSNEpJbsPaB1nJ2fz2\", \"https://cdn.bokeh.org/bokeh/release/bokeh-widgets-2.3.3.min.js\": \"3QTqdz9LyAm2i0sG5XTePsHec3UHWwVsrOL68SYRoAXsafvfAyqtQ+h440+qIBhS\"};\n\n    for (let i = 0; i < js_urls.length; i++) {\n      const url = js_urls[i];\n      const element = document.createElement('script');\n      element.onload = on_load;\n      element.onerror = on_error.bind(null, url);\n      element.async = false;\n      element.src = url;\n      if (url in hashes) {\n        element.crossOrigin = \"anonymous\";\n        element.integrity = \"sha384-\" + hashes[url];\n      }\n      console.debug(\"Bokeh: injecting script tag for BokehJS library: \", url);\n      document.head.appendChild(element);\n    }\n  };\n\n  function inject_raw_css(css) {\n    const element = document.createElement(\"style\");\n    element.appendChild(document.createTextNode(css));\n    document.body.appendChild(element);\n  }\n\n  \n  var js_urls = [\"https://cdn.bokeh.org/bokeh/release/bokeh-2.3.3.min.js\", \"https://cdn.bokeh.org/bokeh/release/bokeh-widgets-2.3.3.min.js\", \"https://cdn.bokeh.org/bokeh/release/bokeh-tables-2.3.3.min.js\"];\n  var css_urls = [];\n  \n\n  var inline_js = [\n    function(Bokeh) {\n      Bokeh.set_log_level(\"info\");\n    },\n    function(Bokeh) {\n    \n    \n    }\n  ];\n\n  function run_inline_js() {\n    \n    if (root.Bokeh !== undefined || force === true) {\n      \n    for (var i = 0; i < inline_js.length; i++) {\n      inline_js[i].call(root, root.Bokeh);\n    }\n    } else if (Date.now() < root._bokeh_timeout) {\n      setTimeout(run_inline_js, 100);\n    } else if (!root._bokeh_failed_load) {\n      console.log(\"Bokeh: BokehJS failed to load within specified timeout.\");\n      root._bokeh_failed_load = true;\n    } else if (force !== true) {\n      var cell = $(document.getElementById(null)).parents('.cell').data().cell;\n      cell.output_area.append_execute_result(NB_LOAD_WARNING)\n    }\n\n  }\n\n  if (root._bokeh_is_loading === 0) {\n    console.debug(\"Bokeh: BokehJS loaded, going straight to plotting\");\n    run_inline_js();\n  } else {\n    load_libs(css_urls, js_urls, function() {\n      console.debug(\"Bokeh: BokehJS plotting callback run at\", now());\n      run_inline_js();\n    });\n  }\n}(window));"
          },
          "metadata": {}
        },
        {
          "output_type": "display_data",
          "data": {
            "text/html": [
              "\n",
              "\n",
              "\n",
              "\n",
              "\n",
              "\n",
              "  <div class=\"bk-root\" id=\"07b26a42-2add-496c-b97e-626bf6b31305\" data-root-id=\"3070\"></div>\n"
            ]
          },
          "metadata": {}
        },
        {
          "output_type": "display_data",
          "data": {
            "application/javascript": [
              "(function(root) {\n",
              "  function embed_document(root) {\n",
              "    \n",
              "  var docs_json = {\"e6258b46-b205-42e0-ada3-4e85ad85be82\":{\"defs\":[],\"roots\":{\"references\":[{\"attributes\":{\"below\":[{\"id\":\"3079\"}],\"center\":[{\"id\":\"3082\"},{\"id\":\"3086\"}],\"height\":200,\"left\":[{\"id\":\"3083\"}],\"renderers\":[{\"id\":\"3106\"},{\"id\":\"3112\"}],\"title\":{\"id\":\"3114\"},\"toolbar\":{\"id\":\"3093\"},\"width\":500,\"x_range\":{\"id\":\"3071\"},\"x_scale\":{\"id\":\"3075\"},\"y_range\":{\"id\":\"3073\"},\"y_scale\":{\"id\":\"3077\"}},\"id\":\"3070\",\"subtype\":\"Figure\",\"type\":\"Plot\"},{\"attributes\":{\"data\":{\"bottom\":{\"__ndarray__\":\"zczMzMxMQUDNzMzMzExBQM3MzMzMTEFAzczMzMxMQUDNzMzMzExBQM3MzMzMTEFAzczMzMxMQUDNzMzMzExBQM3MzMzMTEFAzczMzMxMQUDNzMzMzExBQA==\",\"dtype\":\"float64\",\"order\":\"little\",\"shape\":[11]},\"duration\":{\"__ndarray__\":\"ddexxd4m1j9217HF3ibWP3TXscXeJtY/eNexxd4m1j9417HF3ibWP3DXscXeJtY/cNexxd4m1j9w17HF3ibWP3DXscXeJtY/gNexxd4m1j+A17HF3ibWPw==\",\"dtype\":\"float64\",\"order\":\"little\",\"shape\":[11]},\"end_time\":{\"__ndarray__\":\"ddexxd4m1j+VTCqzHGzwPxQZ0gpO7/4/OvlHhtnoBEDq5SYHDFoKQNzi924FthFANFlnr55uFEDkRUYw0d8ZQDy8tXBqmBxAbk3KeM4EIUBO6wEZG2EiQA==\",\"dtype\":\"float64\",\"order\":\"little\",\"shape\":[11]},\"fill_alpha\":{\"__ndarray__\":\"AAAAAAAA8D8AAAAAAADwPwAAAAAAAPA/AAAAAAAA8D8AAAAAAADwPwAAAAAAAPA/AAAAAAAA8D8AAAAAAADwPwAAAAAAAPA/AAAAAAAA8D8AAAAAAADwPw==\",\"dtype\":\"float64\",\"order\":\"little\",\"shape\":[11]},\"index\":[0,3,7,10,13,17,20,24,27,31,34],\"instrument\":[1,1,1,1,1,1,1,1,1,1,1],\"pitch\":[35,35,35,35,35,35,35,35,35,35,35],\"program\":[0,0,0,0,0,0,0,0,0,0,0],\"start_time\":{\"__ndarray__\":\"AAAAAAAAAABvrXsDysTlPzejZVmWZfk/S76Rrf0jAkD7qnAuMJUHQGXFnIKXUxBAvTsMwzAME0BtKOtDY30YQMWeWoT8NRtAsr6cgpdTIECSXNQi5K8hQA==\",\"dtype\":\"float64\",\"order\":\"little\",\"shape\":[11]},\"top\":{\"__ndarray__\":\"MzMzMzOzQUAzMzMzM7NBQDMzMzMzs0FAMzMzMzOzQUAzMzMzM7NBQDMzMzMzs0FAMzMzMzOzQUAzMzMzM7NBQDMzMzMzs0FAMzMzMzOzQUAzMzMzM7NBQA==\",\"dtype\":\"float64\",\"order\":\"little\",\"shape\":[11]},\"velocity\":[20,20,20,20,20,20,20,20,20,20,20]},\"selected\":{\"id\":\"3122\"},\"selection_policy\":{\"id\":\"3121\"}},\"id\":\"3102\",\"type\":\"ColumnDataSource\"},{\"attributes\":{},\"id\":\"3122\",\"type\":\"Selection\"},{\"attributes\":{},\"id\":\"3120\",\"type\":\"AllLabels\"},{\"attributes\":{\"bottom_units\":\"screen\",\"fill_alpha\":0.5,\"fill_color\":\"lightgrey\",\"left_units\":\"screen\",\"level\":\"overlay\",\"line_alpha\":1.0,\"line_color\":\"black\",\"line_dash\":[4,4],\"line_width\":2,\"right_units\":\"screen\",\"syncable\":false,\"top_units\":\"screen\"},\"id\":\"3092\",\"type\":\"BoxAnnotation\"},{\"attributes\":{\"data_source\":{\"id\":\"3102\"},\"glyph\":{\"id\":\"3104\"},\"hover_glyph\":null,\"muted_glyph\":null,\"nonselection_glyph\":{\"id\":\"3105\"},\"view\":{\"id\":\"3107\"}},\"id\":\"3106\",\"type\":\"GlyphRenderer\"},{\"attributes\":{},\"id\":\"3080\",\"type\":\"BasicTicker\"},{\"attributes\":{},\"id\":\"3121\",\"type\":\"UnionRenderers\"},{\"attributes\":{},\"id\":\"3123\",\"type\":\"UnionRenderers\"},{\"attributes\":{},\"id\":\"3075\",\"type\":\"LinearScale\"},{\"attributes\":{\"axis\":{\"id\":\"3079\"},\"ticker\":null},\"id\":\"3082\",\"type\":\"Grid\"},{\"attributes\":{\"bottom\":{\"field\":\"bottom\"},\"fill_alpha\":{\"field\":\"fill_alpha\"},\"fill_color\":{\"value\":\"#d53e4f\"},\"left\":{\"field\":\"start_time\"},\"right\":{\"field\":\"end_time\"},\"top\":{\"field\":\"top\"}},\"id\":\"3104\",\"type\":\"Quad\"},{\"attributes\":{\"callback\":null,\"tooltips\":[[\"pitch\",\"@pitch\"],[\"program\",\"@program\"],[\"velo\",\"@velocity\"],[\"duration\",\"@duration\"],[\"start_time\",\"@start_time\"],[\"end_time\",\"@end_time\"],[\"velocity\",\"@velocity\"],[\"fill_alpha\",\"@fill_alpha\"]]},\"id\":\"3087\",\"type\":\"HoverTool\"},{\"attributes\":{},\"id\":\"3073\",\"type\":\"DataRange1d\"},{\"attributes\":{},\"id\":\"3090\",\"type\":\"ResetTool\"},{\"attributes\":{\"interval\":12},\"id\":\"3099\",\"type\":\"SingleIntervalTicker\"},{\"attributes\":{},\"id\":\"3124\",\"type\":\"Selection\"},{\"attributes\":{\"data\":{\"bottom\":{\"__ndarray__\":\"ZmZmZmYmUkBmZmZmZiZSQGZmZmZmJlJAZmZmZmYmUkBmZmZmZiZSQGZmZmZmJlJAZmZmZmYmUkBmZmZmZiZSQGZmZmZmJlJAZmZmZmYmUkBmZmZmZiZSQGZmZmZmJlJAZmZmZmYmUkBmZmZmZiZSQGZmZmZmJlJAZmZmZmYmUkBmZmZmZiZSQGZmZmZmJlJAZmZmZmYmUkBmZmZmZiZSQGZmZmZmJlJAZmZmZmYmUkBmZmZmZiZSQGZmZmZmJlJAZmZmZmYmUkBmZmZmZiZSQGZmZmZmJlJA\",\"dtype\":\"float64\",\"order\":\"little\",\"shape\":[27]},\"duration\":{\"__ndarray__\":\"3HVssbeJ/T/cdWyxt4n9P9x1bLG3if0/3XVssbeJ/T/ddWyxt4n9P911bLG3if0/3nVssbeJ/T/edWyxt4n9P951bLG3if0/3nVssbeJ/T/edWyxt4n9P951bLG3if0/3HVssbeJ/T/cdWyxt4n9P9x1bLG3if0/3HVssbeJ/T/cdWyxt4n9P9x1bLG3if0/3HVssbeJ/T/cdWyxt4n9P9x1bLG3if0/3HVssbeJ/T/gdWyxt4n9P+B1bLG3if0/4HVssbeJ/T/gdWyxt4n9P+B1bLG3if0/\",\"dtype\":\"float64\",\"order\":\"little\",\"shape\":[27]},\"end_time\":{\"__ndarray__\":\"SjOrA0KVAEC6LKAuqGUCQNofioR0BgZAahl/r9rWB0D6EnTaQKcJQBoGXjANSA1Aqv9SW3MYD0BleZ7Yn1wRQC32GO7SRBJAve8NGTkVFECFbIgubP0UQE3pAkSf5RVApF9yhDieGEBs3OyZa4YZQPzV4cTRVhtAxFJc2gQ/HECMz9bvNycdQFZh4CICZCBAup+drRvYIECCHBjDTsAhQOZa1U1oNCJASpmS2IGoIkAOgocD6HgkQK62RI4B7SRA7h+/ozTVJUCOVHwuTkkmQC6JOblnvSZA\",\"dtype\":\"float64\",\"order\":\"little\",\"shape\":[27]},\"fill_alpha\":{\"__ndarray__\":\"AAAAAAAA8D8AAAAAAADwPwAAAAAAAPA/AAAAAAAA8D8AAAAAAADwPwAAAAAAAPA/AAAAAAAA8D8AAAAAAADwPwAAAAAAAPA/AAAAAAAA8D8AAAAAAADwPwAAAAAAAPA/AAAAAAAA8D8AAAAAAADwPwAAAAAAAPA/AAAAAAAA8D8AAAAAAADwPwAAAAAAAPA/AAAAAAAA8D8AAAAAAADwPwAAAAAAAPA/AAAAAAAA8D8AAAAAAADwPwAAAAAAAPA/AAAAAAAA8D8AAAAAAADwPwAAAAAAAPA/\",\"dtype\":\"float64\",\"order\":\"little\",\"shape\":[27]},\"index\":[1,2,4,5,6,8,9,11,12,14,15,16,18,19,21,22,23,25,26,28,29,30,32,33,35,36,37],\"instrument\":[2,2,2,2,2,2,2,2,2,2,2,2,2,2,2,2,2,2,2,2,2,2,2,2,2,2,2],\"pitch\":[73,73,73,73,73,73,73,73,73,73,73,73,73,73,73,73,73,73,73,73,73,73,73,73,73,73,73],\"program\":[0,0,0,0,0,0,0,0,0,0,0,0,0,0,0,0,0,0,0,0,0,0,0,0,0,0,0],\"start_time\":{\"__ndarray__\":\"voVPr2IGzT9fjk+vYgbdP6+TT69iBu0/97yRrf0j8j8XsHsDysT1P1eWT69iBv0/u8ScgpdTAEDbt4bYY/QDQGuxewPKxAVAi6RlWZZlCUAbnlqE/DULQKuXT69iBg1ALUIXmMo7EUD1vpGt/SMSQIW4hthj9BNATTUB7pbcFEAVsnsDysQVQDWlZVmWZRlA/SHgbslNGkCNG9WZLx4cQFWYT69iBh1AHRXKxJXuHUBS81kNsccgQPInF5jKOyFAMpGRrf0jIkDSxU44F5giQHL6C8MwDCNA\",\"dtype\":\"float64\",\"order\":\"little\",\"shape\":[27]},\"top\":{\"__ndarray__\":\"mpmZmZlZUkCamZmZmVlSQJqZmZmZWVJAmpmZmZlZUkCamZmZmVlSQJqZmZmZWVJAmpmZmZlZUkCamZmZmVlSQJqZmZmZWVJAmpmZmZlZUkCamZmZmVlSQJqZmZmZWVJAmpmZmZlZUkCamZmZmVlSQJqZmZmZWVJAmpmZmZlZUkCamZmZmVlSQJqZmZmZWVJAmpmZmZlZUkCamZmZmVlSQJqZmZmZWVJAmpmZmZlZUkCamZmZmVlSQJqZmZmZWVJAmpmZmZlZUkCamZmZmVlSQJqZmZmZWVJA\",\"dtype\":\"float64\",\"order\":\"little\",\"shape\":[27]},\"velocity\":[20,20,20,20,20,20,20,20,20,20,20,20,20,20,20,20,20,20,20,20,20,20,20,20,20,20,20]},\"selected\":{\"id\":\"3124\"},\"selection_policy\":{\"id\":\"3123\"}},\"id\":\"3108\",\"type\":\"ColumnDataSource\"},{\"attributes\":{\"source\":{\"id\":\"3108\"}},\"id\":\"3113\",\"type\":\"CDSView\"},{\"attributes\":{\"source\":{\"id\":\"3102\"}},\"id\":\"3107\",\"type\":\"CDSView\"},{\"attributes\":{\"data_source\":{\"id\":\"3108\"},\"glyph\":{\"id\":\"3110\"},\"hover_glyph\":null,\"muted_glyph\":null,\"nonselection_glyph\":{\"id\":\"3111\"},\"view\":{\"id\":\"3113\"}},\"id\":\"3112\",\"type\":\"GlyphRenderer\"},{\"attributes\":{\"bottom\":{\"field\":\"bottom\"},\"fill_alpha\":{\"field\":\"fill_alpha\"},\"fill_color\":{\"value\":\"#3288bd\"},\"left\":{\"field\":\"start_time\"},\"right\":{\"field\":\"end_time\"},\"top\":{\"field\":\"top\"}},\"id\":\"3110\",\"type\":\"Quad\"},{\"attributes\":{\"interval\":12},\"id\":\"3101\",\"type\":\"SingleIntervalTicker\"},{\"attributes\":{\"bottom\":{\"field\":\"bottom\"},\"fill_alpha\":{\"value\":0.1},\"fill_color\":{\"value\":\"#d53e4f\"},\"left\":{\"field\":\"start_time\"},\"line_alpha\":{\"value\":0.1},\"right\":{\"field\":\"end_time\"},\"top\":{\"field\":\"top\"}},\"id\":\"3105\",\"type\":\"Quad\"},{\"attributes\":{},\"id\":\"3117\",\"type\":\"BasicTickFormatter\"},{\"attributes\":{},\"id\":\"3114\",\"type\":\"Title\"},{\"attributes\":{},\"id\":\"3088\",\"type\":\"PanTool\"},{\"attributes\":{\"active_multi\":null,\"tools\":[{\"id\":\"3087\"},{\"id\":\"3088\"},{\"id\":\"3089\"},{\"id\":\"3090\"},{\"id\":\"3091\"}]},\"id\":\"3093\",\"type\":\"Toolbar\"},{\"attributes\":{\"axis_label\":\"pitch (MIDI)\",\"formatter\":{\"id\":\"3119\"},\"major_label_policy\":{\"id\":\"3120\"},\"ticker\":{\"id\":\"3099\"}},\"id\":\"3083\",\"type\":\"LinearAxis\"},{\"attributes\":{\"axis_label\":\"time (sec)\",\"formatter\":{\"id\":\"3117\"},\"major_label_policy\":{\"id\":\"3118\"},\"ticker\":{\"id\":\"3080\"}},\"id\":\"3079\",\"type\":\"LinearAxis\"},{\"attributes\":{},\"id\":\"3077\",\"type\":\"LinearScale\"},{\"attributes\":{\"bottom\":{\"field\":\"bottom\"},\"fill_alpha\":{\"value\":0.1},\"fill_color\":{\"value\":\"#3288bd\"},\"left\":{\"field\":\"start_time\"},\"line_alpha\":{\"value\":0.1},\"right\":{\"field\":\"end_time\"},\"top\":{\"field\":\"top\"}},\"id\":\"3111\",\"type\":\"Quad\"},{\"attributes\":{\"overlay\":{\"id\":\"3092\"}},\"id\":\"3089\",\"type\":\"BoxZoomTool\"},{\"attributes\":{},\"id\":\"3071\",\"type\":\"DataRange1d\"},{\"attributes\":{},\"id\":\"3091\",\"type\":\"SaveTool\"},{\"attributes\":{},\"id\":\"3118\",\"type\":\"AllLabels\"},{\"attributes\":{},\"id\":\"3119\",\"type\":\"BasicTickFormatter\"},{\"attributes\":{\"axis\":{\"id\":\"3083\"},\"dimension\":1,\"ticker\":{\"id\":\"3101\"}},\"id\":\"3086\",\"type\":\"Grid\"}],\"root_ids\":[\"3070\"]},\"title\":\"Bokeh Application\",\"version\":\"2.3.3\"}};\n",
              "  var render_items = [{\"docid\":\"e6258b46-b205-42e0-ada3-4e85ad85be82\",\"root_ids\":[\"3070\"],\"roots\":{\"3070\":\"07b26a42-2add-496c-b97e-626bf6b31305\"}}];\n",
              "  root.Bokeh.embed.embed_items_notebook(docs_json, render_items);\n",
              "\n",
              "  }\n",
              "  if (root.Bokeh !== undefined) {\n",
              "    embed_document(root);\n",
              "  } else {\n",
              "    var attempts = 0;\n",
              "    var timer = setInterval(function(root) {\n",
              "      if (root.Bokeh !== undefined) {\n",
              "        clearInterval(timer);\n",
              "        embed_document(root);\n",
              "      } else {\n",
              "        attempts++;\n",
              "        if (attempts > 100) {\n",
              "          clearInterval(timer);\n",
              "          console.log(\"Bokeh: ERROR: Unable to run BokehJS code because BokehJS library is missing\");\n",
              "        }\n",
              "      }\n",
              "    }, 10, root)\n",
              "  }\n",
              "})(window);"
            ],
            "application/vnd.bokehjs_exec.v0+json": ""
          },
          "metadata": {
            "application/vnd.bokehjs_exec.v0+json": {
              "id": "3070"
            }
          }
        },
        {
          "output_type": "display_data",
          "data": {
            "text/plain": [
              "<IPython.core.display.HTML object>"
            ],
            "text/html": [
              "<div id=\"id_11\"> </div>"
            ]
          },
          "metadata": {}
        }
      ],
      "source": [
        "from note_seq.protobuf import music_pb2\n",
        "import note_seq\n",
        "drums = music_pb2.NoteSequence()\n",
        "# Add the notes to the sequence.\n",
        "#from https://github.com/magenta/note-seq/blob/a715b102e84f36057474fe1be8f4e3c2af4cb7c3/note_seq/testing_lib.py#L33\n",
        "DEFAULT_DRUM_TYPE_PITCHES = [\n",
        "    # kick drum\n",
        "    [36, 35],\n",
        "\n",
        "    # snare drum\n",
        "    [38, 27, 28, 31, 32, 33, 34, 37, 39, 40, 56, 65, 66, 75, 85],\n",
        "\n",
        "    # closed hi-hat\n",
        "    [42, 44, 54, 68, 69, 70, 71, 73, 78, 80, 22],\n",
        "\n",
        "    # open hi-hat\n",
        "    [46, 67, 72, 74, 79, 81, 26],\n",
        "\n",
        "    # low tom\n",
        "    [45, 29, 41, 43, 61, 64, 84],\n",
        "\n",
        "    # mid tom\n",
        "    [48, 47, 60, 63, 77, 86, 87],\n",
        "\n",
        "    # high tom\n",
        "    [50, 30, 62, 76, 83],\n",
        "\n",
        "    # crash cymbal\n",
        "    [49, 52, 55, 57, 58],\n",
        "\n",
        "    # ride cymbal\n",
        "    [51, 53, 59, 82]\n",
        "]\n",
        "mode = \"drums\"\n",
        "save_drums = True\n",
        "new_y = np.array(action_history[0]*1 + action_history[1]*2,dtype='int32')\n",
        "note_times = np.array([1/sr_global,effect_duration[0],effect_duration[1]])\n",
        "sequence = music_pb2.NoteSequence()\n",
        "drums = music_pb2.NoteSequence()\n",
        "current_time = 0\n",
        "if mode == \"note\":\n",
        "    action_pitches = [0,40,60]\n",
        "    action_velocities = [0,20,20]\n",
        "    for i in range(len(new_y)):\n",
        "        if new_y[i]>0:\n",
        "            sequence.notes.add(pitch=action_pitches[new_y[i]], start_time=current_time, end_time= current_time + note_times[new_y[i]], velocity=20)\n",
        "        current_time += 1/sr_global\n",
        "elif mode == \"drums\":\n",
        "    action_pitches = [0,DEFAULT_DRUM_TYPE_PITCHES[0][1] ,DEFAULT_DRUM_TYPE_PITCHES[2][7]]\n",
        "    action_velocities = [0,20,20]\n",
        "    for i in range(len(new_y)):\n",
        "        if new_y[i]>0:\n",
        "            sequence.notes.add(pitch=action_pitches[new_y[i]], start_time=current_time, end_time= current_time + note_times[new_y[i]],is_drum=True, instrument=new_y[i], velocity=20)\n",
        "            if save_drums:\n",
        "                drums.notes.add(pitch=60, start_time=current_time, end_time= current_time + note_times[new_y[i]],is_drum=True, instrument=new_y[i], velocity=20)\n",
        "        current_time += 1/sr_global   \n",
        "\n",
        "# for i in range(len(new_y)):\n",
        "#     drums[new_y[i]].notes.add(pitch=60, start_time=current_time, end_time= current_time + note_time, is_drum=True, instrument=10, velocity=20)\n",
        "#     current_time += note_time \n",
        "    \n",
        "if save_drums:\n",
        "    drums.tempos.add(qpm=60)\n",
        "    midi_filename = 'drums_sequence_output.mid'\n",
        "    note_seq.sequence_proto_to_midi_file(drums, midi_filename)\n",
        "    files.download(midi_filename)\n",
        "# This is a colab utility method that visualizes a NoteSequence.\n",
        "note_seq.plot_sequence(sequence)\n",
        "\n",
        "# This is a colab utility method that plays a NoteSequence.\n",
        "note_seq.play_sequence(sequence,synth=note_seq.fluidsynth)\n",
        "# note_seq.sequence_proto_to_midi_file(sequence, mode + '_sample_output.mid')"
      ]
    },
    {
      "cell_type": "markdown",
      "metadata": {
        "id": "Cc220a3K7fvq"
      },
      "source": [
        "Self-regulation itself is insufficient to capture the richness of syncopatic drum patterns. A more appropriate framework is that of locomotion.\n",
        "What mainly determines the temporal structure of the drums is the agent's goal value. \n",
        "\n",
        "So far, this has been defined abstractly and built by composing various signals. However, these signals haven't been motivated nor explained. \n",
        "In living organisms, self-regulation is a by-product of activity. Here we have defined no activity. For the sake of intuitiveness for user interaction we can choose animal locomotion. \n",
        "Particularly, we'll focus on animal locomotion at *spatio-temporal scales naturally perceptible and analyzable by humans*.  \n",
        "\n",
        "This is very important as it orients our development towards *relatable* musical patterns.\n",
        "\n",
        "Example\n",
        "\n",
        "Bipedal locomotion: a snare is to a kick what a step with the left leg is be to one with the right leg. The two actions are necessary to keep the agent in balance(self-regulation), but the goal itself is to move towards a certain location(locomotion). \n",
        "\n",
        "\n",
        "\n"
      ]
    }
  ],
  "metadata": {
    "colab": {
      "collapsed_sections": [],
      "provenance": []
    },
    "kernelspec": {
      "display_name": "Python 3",
      "name": "python3"
    }
  },
  "nbformat": 4,
  "nbformat_minor": 0
}
